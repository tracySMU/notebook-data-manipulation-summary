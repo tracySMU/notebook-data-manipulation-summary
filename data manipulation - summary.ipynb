{
 "cells": [
  {
   "cell_type": "code",
   "execution_count": null,
   "metadata": {},
   "outputs": [],
   "source": [
    "#upload file (excel)"
   ]
  },
  {
   "cell_type": "code",
   "execution_count": null,
   "metadata": {},
   "outputs": [],
   "source": [
    "import pandas as pd\n",
    "from pandas import ExcelWriter\n",
    "from pandas import ExcelFile\n",
    "\n",
    "df = pd.read_excel('file name.xlsx')"
   ]
  },
  {
   "cell_type": "code",
   "execution_count": null,
   "metadata": {},
   "outputs": [],
   "source": [
    "# import multiple csv\n",
    "# https://medium.com/@kadek/elegantly-reading-multiple-csvs-into-pandas-e1a76843b688\n",
    "    \n",
    "import glob\n",
    "import pandas as pd\n",
    "\n",
    "# glob.glob('data*.csv') - returns List[str]\n",
    "# pd.read_csv(f) - returns pd.DataFrame()\n",
    "# for f in glob.glob() - returns a List[DataFrames]\n",
    "# pd.concat() - returns one pd.DataFrame()\n",
    "df = pd.concat([pd.read_csv(f) for f in glob.glob('data*.csv')], ignore_index = True)"
   ]
  },
  {
   "cell_type": "code",
   "execution_count": null,
   "metadata": {},
   "outputs": [],
   "source": [
    "# display the missing data\n",
    "total = df.isnull().sum().sort_values(ascending=False)\n",
    "percent = (df.isnull().sum()/df.isnull().count()).sort_values(ascending=False)\n",
    "missing_data = pd.concat([total, percent], axis=1, keys=['Total', 'Percent'])\n",
    "missing_data.head(20)"
   ]
  },
  {
   "cell_type": "code",
   "execution_count": null,
   "metadata": {},
   "outputs": [],
   "source": [
    "# get part of col (split by :) and make it a new column ,example user 3rd to make a new column\n",
    "df['newcol'] = df['col'].str.split(':').str[2]"
   ]
  },
  {
   "cell_type": "code",
   "execution_count": null,
   "metadata": {},
   "outputs": [],
   "source": [
    "# group by columns\n",
    "ad_check = df[['col1','col2','col3']].groupby(['col2','col3'])['col1'].count()\n",
    "# same function like window function in SQL, group by, then order by\n",
    "df['event_rank'] = df.groupby(['user_id', 'event_name'])['event_datetime'].rank(method = \"first\", ascending = True)"
   ]
  },
  {
   "cell_type": "code",
   "execution_count": null,
   "metadata": {},
   "outputs": [],
   "source": [
    "# join the table\n",
    "error_output = pd.merge(errors, id_label, how='left', left_on=['key1','key2'], right_on = ['key1','key2'])"
   ]
  },
  {
   "cell_type": "code",
   "execution_count": null,
   "metadata": {},
   "outputs": [],
   "source": [
    "# check the length of a col\n",
    "df['col length']=df['col length'].apply(len)"
   ]
  },
  {
   "cell_type": "code",
   "execution_count": null,
   "metadata": {},
   "outputs": [],
   "source": [
    "# col start with\n",
    "df2[df2['col'].str.match('&')]"
   ]
  },
  {
   "cell_type": "code",
   "execution_count": null,
   "metadata": {},
   "outputs": [],
   "source": [
    "# concat three table vertically\n",
    "frames= [df1,df2,df3]\n",
    "new = pd.concat(frames)"
   ]
  },
  {
   "cell_type": "code",
   "execution_count": 1,
   "metadata": {},
   "outputs": [
    {
     "ename": "NameError",
     "evalue": "name 'df' is not defined",
     "output_type": "error",
     "traceback": [
      "\u001b[1;31m---------------------------------------------------------------------------\u001b[0m",
      "\u001b[1;31mNameError\u001b[0m                                 Traceback (most recent call last)",
      "\u001b[1;32m<ipython-input-1-f938e6c6e467>\u001b[0m in \u001b[0;36m<module>\u001b[1;34m\u001b[0m\n\u001b[0;32m      1\u001b[0m \u001b[1;31m# intial data check\u001b[0m\u001b[1;33m\u001b[0m\u001b[1;33m\u001b[0m\u001b[1;33m\u001b[0m\u001b[0m\n\u001b[1;32m----> 2\u001b[1;33m \u001b[0mdf\u001b[0m\u001b[1;33m.\u001b[0m\u001b[0mcolumns\u001b[0m\u001b[1;33m\u001b[0m\u001b[1;33m\u001b[0m\u001b[0m\n\u001b[0m\u001b[0;32m      3\u001b[0m \u001b[0mdf\u001b[0m\u001b[1;33m.\u001b[0m\u001b[0minfo\u001b[0m\u001b[1;33m(\u001b[0m\u001b[1;33m)\u001b[0m\u001b[1;33m\u001b[0m\u001b[1;33m\u001b[0m\u001b[0m\n\u001b[0;32m      4\u001b[0m \u001b[0mdf\u001b[0m\u001b[1;33m.\u001b[0m\u001b[0mdescribe\u001b[0m\u001b[1;33m(\u001b[0m\u001b[1;33m)\u001b[0m\u001b[1;33m\u001b[0m\u001b[1;33m\u001b[0m\u001b[0m\n",
      "\u001b[1;31mNameError\u001b[0m: name 'df' is not defined"
     ]
    }
   ],
   "source": [
    "# intial data check\n",
    "df.columns # columns of df\n",
    "df.info() # datatype, entries of df\n",
    "df.describe() # stat summary\n",
    "\n",
    "\n",
    "df.count() # count the entries of each column\n",
    "len(df) # check the rows of df\n",
    "\n",
    "\n",
    "df['column'].value_counts() # get the counts of each value in the column\n",
    "df.unuique() # count the unique entries of each column\n",
    "df.col.apply(len) # count the length of string in col\n",
    "df.col.map(str).apply(len) # count the length of integer of column"
   ]
  },
  {
   "cell_type": "code",
   "execution_count": null,
   "metadata": {},
   "outputs": [],
   "source": [
    "# conditional filter\n",
    "df2 = df[df['column'].str.contains('string')] #filter column by str and assign to a new d\n",
    "df3 = df[df['column'].isin(df2['column'])] # filter df by column, if value in column is in column of df2, \n",
    "                                           # then filter and assign to new df\n",
    "df = df[['a','b','c']] # select multiple column and update the df"
   ]
  },
  {
   "cell_type": "code",
   "execution_count": null,
   "metadata": {},
   "outputs": [],
   "source": [
    "# column value manipulation\n",
    "df['a'] = 'string' #change the string of column a\n",
    "df['a'] = df['a'].astype(str) #update the column by change its data type"
   ]
  },
  {
   "cell_type": "code",
   "execution_count": null,
   "metadata": {},
   "outputs": [],
   "source": [
    "# remove special characers\n",
    "df['col']=df['col'].replace({\"\\[\": \"\"},regex=True)\n",
    "df['col']=df['col'].replace({\"\\]\": \"\"},regex=True)\n",
    "df['col']=df['col'].replace({\"\\\"\": \"\"},regex=True)"
   ]
  },
  {
   "cell_type": "code",
   "execution_count": null,
   "metadata": {},
   "outputs": [],
   "source": [
    "# select columns\n",
    "df = df[['col1','col2']]\n",
    "# name the columns\n",
    "df.columns = ['col1','col2']"
   ]
  },
  {
   "cell_type": "code",
   "execution_count": null,
   "metadata": {},
   "outputs": [],
   "source": [
    "lista = df.col.unique()\n",
    "# output by unique col values\n",
    "for value in lista:\n",
    "    dfes=df.loc[df['col'] == value]\n",
    "    filename= value+'.csv'\n",
    "    dfes.to_csv(filename, index = False, encoding='utf-8')"
   ]
  },
  {
   "cell_type": "code",
   "execution_count": null,
   "metadata": {},
   "outputs": [],
   "source": [
    "# data exploration and matplotlib\n",
    "https://towardsdatascience.com/a-guide-to-pandas-and-matplotlib-for-data-exploration-56fad95f951c\n",
    "# sal in python\n",
    "https://towardsdatascience.com/jupyter-magics-with-sql-921370099589\n",
    "# H2O in machine learning\n",
    "https://towardsdatascience.com/democratising-machine-learning-with-h2o-7f2f79e10e3f\n"
   ]
  },
  {
   "cell_type": "code",
   "execution_count": null,
   "metadata": {},
   "outputs": [],
   "source": [
    "# output\n",
    "df.to_excel('filename.xlsx', index = False) # output the df to excel and exclude the index"
   ]
  }
 ],
 "metadata": {
  "kernelspec": {
   "display_name": "Python 3",
   "language": "python",
   "name": "python3"
  },
  "language_info": {
   "codemirror_mode": {
    "name": "ipython",
    "version": 3
   },
   "file_extension": ".py",
   "mimetype": "text/x-python",
   "name": "python",
   "nbconvert_exporter": "python",
   "pygments_lexer": "ipython3",
   "version": "3.7.3"
  }
 },
 "nbformat": 4,
 "nbformat_minor": 2
}
